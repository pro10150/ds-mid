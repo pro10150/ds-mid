{
 "cells": [
  {
   "cell_type": "markdown",
   "id": "16553e13-f7e5-4422-b7cb-1e8bd6e12ad4",
   "metadata": {},
   "source": [
    "**รายชื่อสมาชิก** \n",
    "\n",
    "1. นางสาวณัฐชา สุภาพจันทร์ 6209050040 \n",
    "\n",
    "2. นางสาวสุพิชชา จำปาทอง 62090500424 \n",
    "\n",
    "3. นายสหัสวรรษ ประคอง 62090500440 \n",
    "\n",
    "4. นายนพคุณ อนันตกิจถาวร 62090500447 "
   ]
  },
  {
   "cell_type": "code",
   "execution_count": 1,
   "id": "ccbd8412-791d-40b9-8fcf-d797e48ca7fb",
   "metadata": {},
   "outputs": [],
   "source": [
    "import pandas as pd\n",
    "import numpy as np\n",
    "import matplotlib as plt"
   ]
  },
  {
   "cell_type": "code",
   "execution_count": 8,
   "id": "bb95cfee-0918-4445-8ae4-9cea3b72d93a",
   "metadata": {},
   "outputs": [],
   "source": [
    "aSales = pd.read_csv('input/Asales.csv')\n",
    "bSales = pd.read_csv('input/Bsales.csv')\n",
    "covid19 = pd.read_csv('input/covid-19.csv')\n",
    "item_cat = pd.read_csv('input/item_categories.csv')\n",
    "items = pd.read_csv('input/items.csv')\n",
    "shops = pd.read_csv('input/shops.csv')"
   ]
  },
  {
   "cell_type": "markdown",
   "id": "ac8ec5bb-14b8-4c71-b06d-50d175b2e06a",
   "metadata": {},
   "source": [
    "<h1>Part 1<h1>"
   ]
  },
  {
   "cell_type": "code",
   "execution_count": null,
   "id": "f44a5400-f14b-4217-8600-364e6f3e7828",
   "metadata": {},
   "outputs": [],
   "source": []
  },
  {
   "cell_type": "markdown",
   "id": "f627bfcb-f792-46b3-9a0d-06cca643ac83",
   "metadata": {},
   "source": [
    "<h1>Part 2<h1>"
   ]
  },
  {
   "cell_type": "code",
   "execution_count": null,
   "id": "7be42a7a-a09c-4660-afca-1845ab280b19",
   "metadata": {},
   "outputs": [],
   "source": []
  },
  {
   "cell_type": "markdown",
   "id": "b31ebb82-5d14-4617-88f4-905a5f0eb84c",
   "metadata": {},
   "source": [
    "<h1>Part 3<h1>"
   ]
  },
  {
   "cell_type": "code",
   "execution_count": null,
   "id": "04326ec1-e463-4341-a51c-3edd3bffc596",
   "metadata": {},
   "outputs": [],
   "source": []
  }
 ],
 "metadata": {
  "kernelspec": {
   "display_name": "Python 3 (ipykernel)",
   "language": "python",
   "name": "python3"
  },
  "language_info": {
   "codemirror_mode": {
    "name": "ipython",
    "version": 3
   },
   "file_extension": ".py",
   "mimetype": "text/x-python",
   "name": "python",
   "nbconvert_exporter": "python",
   "pygments_lexer": "ipython3",
   "version": "3.9.7"
  }
 },
 "nbformat": 4,
 "nbformat_minor": 5
}
