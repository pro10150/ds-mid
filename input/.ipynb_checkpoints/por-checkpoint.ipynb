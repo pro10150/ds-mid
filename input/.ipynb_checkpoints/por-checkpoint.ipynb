{
 "cells": [
  {
   "cell_type": "code",
   "execution_count": 24,
   "id": "5832cfe5-3e01-436f-af85-a7e99774f1ba",
   "metadata": {},
   "outputs": [],
   "source": [
    "import pandas as pd\n",
    "import numpy as np\n",
    "import matplotlib.pyplot as plt\n",
    "import datetime"
   ]
  },
  {
   "cell_type": "code",
   "execution_count": 53,
   "id": "715c7842-c8f8-4633-9898-3a398e992c37",
   "metadata": {},
   "outputs": [],
   "source": [
    "aSales = pd.read_csv('../input/Asales.csv')\n",
    "bSales = pd.read_csv('../input/Bsales.csv')\n",
    "covid19 = pd.read_csv('../input/covid-19.csv')\n",
    "item_cat = pd.read_csv('../input/item_categories.csv')\n",
    "items = pd.read_csv('../input/items.csv')\n",
    "shops = pd.read_csv('../input/shops.csv')"
   ]
  },
  {
   "cell_type": "code",
   "execution_count": 3,
   "id": "536abc8f-b953-4ee8-9008-6ef557b85f67",
   "metadata": {},
   "outputs": [],
   "source": [
    "#1\n",
    "covid19['date'] = pd.to_datetime(covid19['date'], format='%Y-%m-%d')\n",
    "hospital_patients = covid19.dropna(subset=['hosp_patients'])\n",
    "recent_hospital_patients = hospital_patients.groupby('location').tail(1)\n",
    "today_date = recent_hospital_patients.iloc[0]['date']\n",
    "two_weeks_before_date = today_date-datetime.timedelta(days=14)\n",
    "fortnight_hospital_patients = hospital_patients.loc[covid19['date'] == two_weeks_before_date]\n",
    "frames = [recent_hospital_patients, fortnight_hospital_patients]\n",
    "result = pd.concat(frames)\n",
    "result['difference'] = result.groupby('location')['hosp_patients'].pct_change()\n",
    "result = result.dropna(subset=['difference'])\n"
   ]
  },
  {
   "cell_type": "code",
   "execution_count": 6,
   "id": "65309131-bae1-4a44-bff4-8c3df68c73e9",
   "metadata": {},
   "outputs": [
    {
     "data": {
      "text/html": [
       "<div>\n",
       "<style scoped>\n",
       "    .dataframe tbody tr th:only-of-type {\n",
       "        vertical-align: middle;\n",
       "    }\n",
       "\n",
       "    .dataframe tbody tr th {\n",
       "        vertical-align: top;\n",
       "    }\n",
       "\n",
       "    .dataframe thead th {\n",
       "        text-align: right;\n",
       "    }\n",
       "</style>\n",
       "<table border=\"1\" class=\"dataframe\">\n",
       "  <thead>\n",
       "    <tr style=\"text-align: right;\">\n",
       "      <th></th>\n",
       "      <th>location</th>\n",
       "      <th>difference</th>\n",
       "    </tr>\n",
       "  </thead>\n",
       "  <tbody>\n",
       "    <tr>\n",
       "      <th>87822</th>\n",
       "      <td>Portugal</td>\n",
       "      <td>0.461538</td>\n",
       "    </tr>\n",
       "    <tr>\n",
       "      <th>27983</th>\n",
       "      <td>Cyprus</td>\n",
       "      <td>0.459184</td>\n",
       "    </tr>\n",
       "    <tr>\n",
       "      <th>104931</th>\n",
       "      <td>Switzerland</td>\n",
       "      <td>0.441227</td>\n",
       "    </tr>\n",
       "    <tr>\n",
       "      <th>53947</th>\n",
       "      <td>Israel</td>\n",
       "      <td>0.381050</td>\n",
       "    </tr>\n",
       "    <tr>\n",
       "      <th>64581</th>\n",
       "      <td>Luxembourg</td>\n",
       "      <td>0.344828</td>\n",
       "    </tr>\n",
       "    <tr>\n",
       "      <th>53109</th>\n",
       "      <td>Ireland</td>\n",
       "      <td>0.302158</td>\n",
       "    </tr>\n",
       "    <tr>\n",
       "      <th>114221</th>\n",
       "      <td>United States</td>\n",
       "      <td>0.290364</td>\n",
       "    </tr>\n",
       "    <tr>\n",
       "      <th>76685</th>\n",
       "      <td>Netherlands</td>\n",
       "      <td>0.282967</td>\n",
       "    </tr>\n",
       "    <tr>\n",
       "      <th>29739</th>\n",
       "      <td>Denmark</td>\n",
       "      <td>0.265306</td>\n",
       "    </tr>\n",
       "    <tr>\n",
       "      <th>39385</th>\n",
       "      <td>France</td>\n",
       "      <td>0.197705</td>\n",
       "    </tr>\n",
       "  </tbody>\n",
       "</table>\n",
       "</div>"
      ],
      "text/plain": [
       "             location  difference\n",
       "87822        Portugal    0.461538\n",
       "27983          Cyprus    0.459184\n",
       "104931    Switzerland    0.441227\n",
       "53947          Israel    0.381050\n",
       "64581      Luxembourg    0.344828\n",
       "53109         Ireland    0.302158\n",
       "114221  United States    0.290364\n",
       "76685     Netherlands    0.282967\n",
       "29739         Denmark    0.265306\n",
       "39385          France    0.197705"
      ]
     },
     "execution_count": 6,
     "metadata": {},
     "output_type": "execute_result"
    }
   ],
   "source": [
    "result[['location','difference']].nlargest(10, 'difference')"
   ]
  },
  {
   "cell_type": "code",
   "execution_count": 7,
   "id": "9b1e9c58-2382-4fba-990f-3a0fba0f09c5",
   "metadata": {},
   "outputs": [
    {
     "data": {
      "text/html": [
       "<div>\n",
       "<style scoped>\n",
       "    .dataframe tbody tr th:only-of-type {\n",
       "        vertical-align: middle;\n",
       "    }\n",
       "\n",
       "    .dataframe tbody tr th {\n",
       "        vertical-align: top;\n",
       "    }\n",
       "\n",
       "    .dataframe thead th {\n",
       "        text-align: right;\n",
       "    }\n",
       "</style>\n",
       "<table border=\"1\" class=\"dataframe\">\n",
       "  <thead>\n",
       "    <tr style=\"text-align: right;\">\n",
       "      <th></th>\n",
       "      <th>location</th>\n",
       "      <th>difference</th>\n",
       "    </tr>\n",
       "  </thead>\n",
       "  <tbody>\n",
       "    <tr>\n",
       "      <th>97533</th>\n",
       "      <td>Slovakia</td>\n",
       "      <td>-0.705674</td>\n",
       "    </tr>\n",
       "    <tr>\n",
       "      <th>48995</th>\n",
       "      <td>Hungary</td>\n",
       "      <td>-0.577904</td>\n",
       "    </tr>\n",
       "    <tr>\n",
       "      <th>28567</th>\n",
       "      <td>Czechia</td>\n",
       "      <td>-0.567742</td>\n",
       "    </tr>\n",
       "    <tr>\n",
       "      <th>87234</th>\n",
       "      <td>Poland</td>\n",
       "      <td>-0.509804</td>\n",
       "    </tr>\n",
       "    <tr>\n",
       "      <th>60619</th>\n",
       "      <td>Latvia</td>\n",
       "      <td>-0.469178</td>\n",
       "    </tr>\n",
       "    <tr>\n",
       "      <th>98138</th>\n",
       "      <td>Slovenia</td>\n",
       "      <td>-0.419444</td>\n",
       "    </tr>\n",
       "    <tr>\n",
       "      <th>20035</th>\n",
       "      <td>Canada</td>\n",
       "      <td>-0.401849</td>\n",
       "    </tr>\n",
       "    <tr>\n",
       "      <th>7457</th>\n",
       "      <td>Austria</td>\n",
       "      <td>-0.386646</td>\n",
       "    </tr>\n",
       "    <tr>\n",
       "      <th>26663</th>\n",
       "      <td>Croatia</td>\n",
       "      <td>-0.152098</td>\n",
       "    </tr>\n",
       "    <tr>\n",
       "      <th>34885</th>\n",
       "      <td>Estonia</td>\n",
       "      <td>-0.139665</td>\n",
       "    </tr>\n",
       "  </tbody>\n",
       "</table>\n",
       "</div>"
      ],
      "text/plain": [
       "       location  difference\n",
       "97533  Slovakia   -0.705674\n",
       "48995   Hungary   -0.577904\n",
       "28567   Czechia   -0.567742\n",
       "87234    Poland   -0.509804\n",
       "60619    Latvia   -0.469178\n",
       "98138  Slovenia   -0.419444\n",
       "20035    Canada   -0.401849\n",
       "7457    Austria   -0.386646\n",
       "26663   Croatia   -0.152098\n",
       "34885   Estonia   -0.139665"
      ]
     },
     "execution_count": 7,
     "metadata": {},
     "output_type": "execute_result"
    }
   ],
   "source": [
    "result[['location','difference']].nsmallest(10, 'difference')"
   ]
  },
  {
   "cell_type": "code",
   "execution_count": 17,
   "id": "6435d1ec-7bbf-4028-97ff-b6306f045b8d",
   "metadata": {},
   "outputs": [
    {
     "data": {
      "text/html": [
       "<div>\n",
       "<style scoped>\n",
       "    .dataframe tbody tr th:only-of-type {\n",
       "        vertical-align: middle;\n",
       "    }\n",
       "\n",
       "    .dataframe tbody tr th {\n",
       "        vertical-align: top;\n",
       "    }\n",
       "\n",
       "    .dataframe thead th {\n",
       "        text-align: right;\n",
       "    }\n",
       "</style>\n",
       "<table border=\"1\" class=\"dataframe\">\n",
       "  <thead>\n",
       "    <tr style=\"text-align: right;\">\n",
       "      <th></th>\n",
       "      <th>date_block_num</th>\n",
       "      <th>shop_id</th>\n",
       "      <th>item_id</th>\n",
       "      <th>item_price</th>\n",
       "      <th>item_cnt_day</th>\n",
       "    </tr>\n",
       "  </thead>\n",
       "  <tbody>\n",
       "    <tr>\n",
       "      <th>count</th>\n",
       "      <td>2.928493e+06</td>\n",
       "      <td>2.928493e+06</td>\n",
       "      <td>2.928493e+06</td>\n",
       "      <td>2.928493e+06</td>\n",
       "      <td>2.928493e+06</td>\n",
       "    </tr>\n",
       "    <tr>\n",
       "      <th>mean</th>\n",
       "      <td>1.456976e+01</td>\n",
       "      <td>3.300295e+01</td>\n",
       "      <td>1.020028e+04</td>\n",
       "      <td>8.894664e+02</td>\n",
       "      <td>1.248337e+00</td>\n",
       "    </tr>\n",
       "    <tr>\n",
       "      <th>std</th>\n",
       "      <td>9.422952e+00</td>\n",
       "      <td>1.622543e+01</td>\n",
       "      <td>6.324396e+03</td>\n",
       "      <td>1.727498e+03</td>\n",
       "      <td>2.619586e+00</td>\n",
       "    </tr>\n",
       "    <tr>\n",
       "      <th>min</th>\n",
       "      <td>0.000000e+00</td>\n",
       "      <td>0.000000e+00</td>\n",
       "      <td>0.000000e+00</td>\n",
       "      <td>-1.000000e+00</td>\n",
       "      <td>1.000000e+00</td>\n",
       "    </tr>\n",
       "    <tr>\n",
       "      <th>25%</th>\n",
       "      <td>7.000000e+00</td>\n",
       "      <td>2.200000e+01</td>\n",
       "      <td>4.477000e+03</td>\n",
       "      <td>2.490000e+02</td>\n",
       "      <td>1.000000e+00</td>\n",
       "    </tr>\n",
       "    <tr>\n",
       "      <th>50%</th>\n",
       "      <td>1.400000e+01</td>\n",
       "      <td>3.100000e+01</td>\n",
       "      <td>9.355000e+03</td>\n",
       "      <td>3.990000e+02</td>\n",
       "      <td>1.000000e+00</td>\n",
       "    </tr>\n",
       "    <tr>\n",
       "      <th>75%</th>\n",
       "      <td>2.300000e+01</td>\n",
       "      <td>4.700000e+01</td>\n",
       "      <td>1.569100e+04</td>\n",
       "      <td>9.990000e+02</td>\n",
       "      <td>1.000000e+00</td>\n",
       "    </tr>\n",
       "    <tr>\n",
       "      <th>max</th>\n",
       "      <td>3.300000e+01</td>\n",
       "      <td>5.900000e+01</td>\n",
       "      <td>2.216900e+04</td>\n",
       "      <td>3.079800e+05</td>\n",
       "      <td>2.169000e+03</td>\n",
       "    </tr>\n",
       "  </tbody>\n",
       "</table>\n",
       "</div>"
      ],
      "text/plain": [
       "       date_block_num       shop_id       item_id    item_price  item_cnt_day\n",
       "count    2.928493e+06  2.928493e+06  2.928493e+06  2.928493e+06  2.928493e+06\n",
       "mean     1.456976e+01  3.300295e+01  1.020028e+04  8.894664e+02  1.248337e+00\n",
       "std      9.422952e+00  1.622543e+01  6.324396e+03  1.727498e+03  2.619586e+00\n",
       "min      0.000000e+00  0.000000e+00  0.000000e+00 -1.000000e+00  1.000000e+00\n",
       "25%      7.000000e+00  2.200000e+01  4.477000e+03  2.490000e+02  1.000000e+00\n",
       "50%      1.400000e+01  3.100000e+01  9.355000e+03  3.990000e+02  1.000000e+00\n",
       "75%      2.300000e+01  4.700000e+01  1.569100e+04  9.990000e+02  1.000000e+00\n",
       "max      3.300000e+01  5.900000e+01  2.216900e+04  3.079800e+05  2.169000e+03"
      ]
     },
     "execution_count": 17,
     "metadata": {},
     "output_type": "execute_result"
    }
   ],
   "source": []
  },
  {
   "cell_type": "code",
   "execution_count": 19,
   "id": "e5539e4b-24bf-48cc-9f8d-4bf9d603dc27",
   "metadata": {},
   "outputs": [],
   "source": []
  },
  {
   "cell_type": "code",
   "execution_count": 26,
   "id": "53acfcae-380b-45a2-8e34-1b42248d5a60",
   "metadata": {},
   "outputs": [
    {
     "data": {
      "image/png": "[encoded data removed]",
      "text/plain": [
       "<Figure size 432x288 with 1 Axes>"
      ]
     },
     "metadata": {
      "needs_background": "light"
     },
     "output_type": "display_data"
    }
   ],
   "source": [
    "country = covid19['location']\n",
    "country = country.drop_duplicates()\n",
    "location_list = ['Thailand', 'Myanmar', 'Oman']\n",
    "#date_list = ['2020-03-01', '2020-03-02', '2020-03-03']\n",
    "\n",
    "@interact(location=location_list)\n",
    "def plot_chart(location):\n",
    "    df=covid19[covid19['location'].isin([location])]\n",
    "    fig, ax = plt.subplots(figsize=(10, 6))\n",
    "    sns.lineplot(data=df, x='date', y='new_cases', ax=ax)\n",
    "    ax2=ax.twinx()\n",
    "\n",
    "    sns.lineplot(x=df.date, y=df['new_cases'], ax=ax2)\n",
    "    ax2.grid()\n",
    "    plt.title(f'COVID-19 in {location}')"
   ]
  },
  {
   "cell_type": "code",
   "execution_count": 63,
   "id": "d2bff03f-8d36-45b2-8f11-d5194fc0e16f",
   "metadata": {},
   "outputs": [],
   "source": [
    "country = covid19['location']\n",
    "country = country.drop_duplicates()"
   ]
  },
  {
   "cell_type": "code",
   "execution_count": 30,
   "id": "36934cf5-5c9b-4a69-ab31-8e5d18e6fd13",
   "metadata": {},
   "outputs": [
    {
     "ename": "TypeError",
     "evalue": "'RangeIndex' object is not callable",
     "output_type": "error",
     "traceback": [
      "\u001b[1;31m---------------------------------------------------------------------------\u001b[0m",
      "\u001b[1;31mTypeError\u001b[0m                                 Traceback (most recent call last)",
      "\u001b[1;32m~\\AppData\\Local\\Temp/ipykernel_3524/2026916319.py\u001b[0m in \u001b[0;36m<module>\u001b[1;34m\u001b[0m\n\u001b[1;32m----> 1\u001b[1;33m \u001b[0mcovid19\u001b[0m\u001b[1;33m.\u001b[0m\u001b[0mindex\u001b[0m\u001b[1;33m(\u001b[0m\u001b[1;33m)\u001b[0m\u001b[1;33m\u001b[0m\u001b[1;33m\u001b[0m\u001b[0m\n\u001b[0m",
      "\u001b[1;31mTypeError\u001b[0m: 'RangeIndex' object is not callable"
     ]
    }
   ],
   "source": [
    "covid19.index()"
   ]
  },
  {
   "cell_type": "code",
   "execution_count": 54,
   "id": "79662ae4-dcc8-4023-a37f-19ad4fa8229e",
   "metadata": {},
   "outputs": [
    {
     "data": {
      "text/plain": [
       "True"
      ]
     },
     "execution_count": 54,
     "metadata": {},
     "output_type": "execute_result"
    }
   ],
   "source": [
    "df = covid19\n",
    "df['date'] = pd.to_datetime(covid19['date'], format='%Y-%m-%d')\n",
    "today_date = df.iloc[-1]['date']\n",
    "two_weeks = today_date-datetime.timedelta(days=14)\n",
    "four_weeks = two_weeks-datetime.timedelta(days=14)\n",
    "(df.new_cases < 0).any()"
   ]
  },
  {
   "cell_type": "code",
   "execution_count": 51,
   "id": "c5a78116-4799-4e80-ba71-249d5dfdf175",
   "metadata": {},
   "outputs": [
    {
     "data": {
      "text/plain": [
       "False"
      ]
     },
     "execution_count": 51,
     "metadata": {},
     "output_type": "execute_result"
    }
   ],
   "source": [
    "df[df.new_cases < 0] = 0\n",
    "(df.new_cases < 0).any()"
   ]
  },
  {
   "cell_type": "code",
   "execution_count": null,
   "id": "b719bf3e-1e34-4fb9-a56a-fad05eb7eb95",
   "metadata": {},
   "outputs": [],
   "source": []
  }
 ],
 "metadata": {
  "kernelspec": {
   "display_name": "Python 3 (ipykernel)",
   "language": "python",
   "name": "python3"
  },
  "language_info": {
   "codemirror_mode": {
    "name": "ipython",
    "version": 3
   },
   "file_extension": ".py",
   "mimetype": "text/x-python",
   "name": "python",
   "nbconvert_exporter": "python",
   "pygments_lexer": "ipython3",
   "version": "3.9.7"
  }
 },
 "nbformat": 4,
 "nbformat_minor": 5
}
